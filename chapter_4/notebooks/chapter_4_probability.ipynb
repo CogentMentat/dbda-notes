{
 "cells": [
  {
   "cell_type": "markdown",
   "metadata": {},
   "source": [
    "# Chapter 4: What is this thing called probability?"
   ]
  },
  {
   "cell_type": "markdown",
   "metadata": {},
   "source": [
    "## Properties of probabilities (Kolmogorov)\n",
    "\n",
    "For a probabilities $P(I=i) = p_i$, $1 \\le i \\le N$:\n",
    "\n",
    "* $p_i \\ge 0$  $\\forall i$\n",
    "* $\\sum_i p_i = 1$\n",
    "* $P(a \\cup b) = p_a + p_b$\n",
    "\n",
    "A little more advanced:\n",
    "\n",
    "* marginalizing probabilities: $P(A=a) = \\sum_b p(A=a, B=b)$\n",
    "* conditional probabilities:\n",
    "  - joint probability and chain rule: $P(A=a, B=b) = P(A=a | B=b)P(B=b) = P(B=b|A=a)P(A=a)$\n",
    "* Bayes' Rule: just a rejigger of chain rule\n",
    "  - $P(B=b|A=a) = \\frac{P(A=a, B=b)}{P(A=a)} = \\frac{P(A=a | B=b)P(B=b)}{P(A=a)}$"
   ]
  },
  {
   "cell_type": "markdown",
   "metadata": {},
   "source": [
    "## Normal distribution\n",
    "\n",
    "* mean, variance\n",
    "  - mean -> variance\n",
    "  - variance -> mean: mean as minimized variance, finding the \"central tendency\" of a distribution"
   ]
  },
  {
   "cell_type": "markdown",
   "metadata": {},
   "source": [
    "## Highest Density Interval (HDI)\n",
    "\n",
    "* interval(s) containing $s\\%$ of probability mass, such that every point inside such interval(s) have higher\n",
    "credibility than points outside\n",
    "* useful for measuring degree of uncertainty of belief: wide HDIs are more uncertain\n",
    "  - note here that *implicit* in this idea, we are measuring the value of a parameter, but there is a distribution of belief for values of that parameter.  In other words, we are not measuring a point estimate."
   ]
  },
  {
   "cell_type": "code",
   "execution_count": null,
   "metadata": {
    "collapsed": true
   },
   "outputs": [],
   "source": []
  }
 ],
 "metadata": {
  "kernelspec": {
   "display_name": "Python 3",
   "language": "python",
   "name": "python3"
  },
  "language_info": {
   "codemirror_mode": {
    "name": "ipython",
    "version": 3
   },
   "file_extension": ".py",
   "mimetype": "text/x-python",
   "name": "python",
   "nbconvert_exporter": "python",
   "pygments_lexer": "ipython3",
   "version": "3.6.2"
  }
 },
 "nbformat": 4,
 "nbformat_minor": 2
}
